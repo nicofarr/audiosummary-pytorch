{
 "cells": [
  {
   "cell_type": "markdown",
   "metadata": {},
   "source": [
    "Extraction of soundnet feature vectors for ESC-50"
   ]
  },
  {
   "cell_type": "code",
   "execution_count": 2,
   "metadata": {},
   "outputs": [],
   "source": [
    "#--mesure time\n",
    "import time \n",
    "#soundnet in pytorch\n",
    "import soundnet.extract_features as ex\n",
    "import pandas as pd \n",
    "import librosa\n",
    "from tqdm import tqdm\n",
    "import numpy as np"
   ]
  },
  {
   "cell_type": "code",
   "execution_count": 3,
   "metadata": {},
   "outputs": [],
   "source": [
    "import matplotlib.pyplot as plt\n",
    "%matplotlib inline\n",
    "plt.style.use('bmh')"
   ]
  },
  {
   "cell_type": "markdown",
   "metadata": {},
   "source": [
    "Extracting all feature vectors for ESC-10"
   ]
  },
  {
   "cell_type": "code",
   "execution_count": 4,
   "metadata": {},
   "outputs": [],
   "source": [
    "import librosa\n",
    "\n",
    "def extract_vectors_resampl(filepath):\n",
    "    audio,sr = librosa.load(path=filepath,sr=22050)\n",
    "    features = ex.extract_pytorch_feature_nooutput(audio,'./soundnet/sound8.pth')\n",
    "   \n",
    "    #print([x.shape for x in features])\n",
    "    \n",
    "    ##extract vector\n",
    "    vectors = []\n",
    "    for idlayer in range(len(features)):\n",
    "        vectors.append(ex.extract_vector(features,idlayer)) #features vector \n",
    "    return vectors, len(audio)/sr"
   ]
  },
  {
   "cell_type": "code",
   "execution_count": 4,
   "metadata": {},
   "outputs": [],
   "source": [
    "vec,siz= extract_vectors_resampl('/home/nfarrugi/git/ESC-50/audio/4-195497-A-11.wav')"
   ]
  },
  {
   "cell_type": "code",
   "execution_count": 5,
   "metadata": {},
   "outputs": [
    {
     "data": {
      "text/plain": [
       "7"
      ]
     },
     "execution_count": 5,
     "metadata": {},
     "output_type": "execute_result"
    }
   ],
   "source": [
    "len(vec)"
   ]
  },
  {
   "cell_type": "markdown",
   "metadata": {},
   "source": [
    "Fetching the file list for ESC10"
   ]
  },
  {
   "cell_type": "code",
   "execution_count": 5,
   "metadata": {},
   "outputs": [],
   "source": [
    "import pandas as pd\n",
    "\n",
    "Df = pd.read_csv('/home/nfarrugi/git/ESC-50/meta/esc50.csv')"
   ]
  },
  {
   "cell_type": "code",
   "execution_count": 9,
   "metadata": {},
   "outputs": [
    {
     "name": "stderr",
     "output_type": "stream",
     "text": [
      "100%|██████████| 400/400 [02:01<00:00,  3.24it/s]\n"
     ]
    }
   ],
   "source": [
    "import os \n",
    "from tqdm import tqdm\n",
    "pathesc = '/home/nfarrugi/git/ESC-50/audio/'\n",
    "listfiles = os.listdir(pathesc)\n",
    "\n",
    "all_fv_esc10 = dict()\n",
    "\n",
    "#for curfile in tqdm(listfiles[:10]):\n",
    "\n",
    "for curfile in tqdm(Df[Df['esc10']]['filename']):\n",
    "    \n",
    "    curid = curfile[:-4]\n",
    "        \n",
    "    vec,siz= extract_vectors_resampl(os.path.join(pathesc,curfile))\n",
    "    \n",
    "    all_fv_esc10[curid] = vec\n",
    "    "
   ]
  },
  {
   "cell_type": "code",
   "execution_count": 10,
   "metadata": {},
   "outputs": [],
   "source": [
    "np.savez_compressed('/home/nfarrugi/esc10-allfv.npz',all_fv_esc10 = all_fv_esc10)"
   ]
  },
  {
   "cell_type": "code",
   "execution_count": 6,
   "metadata": {},
   "outputs": [],
   "source": [
    "all_fv_esc10 = np.load('/home/nfarrugi/esc10-allfv.npz')['all_fv_esc10']"
   ]
  },
  {
   "cell_type": "markdown",
   "metadata": {},
   "source": [
    "Let's build the X and y for classification. We will use the predefined folds"
   ]
  },
  {
   "cell_type": "code",
   "execution_count": 11,
   "metadata": {},
   "outputs": [],
   "source": [
    "Df_esc10 = Df[Df['esc10']]\n",
    "\n",
    "y = Df_esc10['category']\n",
    "\n",
    "group = Df_esc10['fold']"
   ]
  },
  {
   "cell_type": "code",
   "execution_count": 26,
   "metadata": {},
   "outputs": [],
   "source": [
    "layer = 6 # 6 for conv7 layer\n",
    "\n",
    "X = []\n",
    "\n",
    "for curstim in Df_esc10['filename']:\n",
    "    curid = curstim[:-4]\n",
    "    curfv = all_fv_esc10[curid][layer].mean(axis=0)\n",
    "    #curfv = all_fv_esc10[curid][layer]\n",
    "    X.append(curfv)\n",
    "X = np.stack(X)"
   ]
  },
  {
   "cell_type": "code",
   "execution_count": 27,
   "metadata": {},
   "outputs": [],
   "source": [
    "X= X.reshape(400,-1)"
   ]
  },
  {
   "cell_type": "code",
   "execution_count": 28,
   "metadata": {},
   "outputs": [
    {
     "data": {
      "text/plain": [
       "(400, 1024)"
      ]
     },
     "execution_count": 28,
     "metadata": {},
     "output_type": "execute_result"
    }
   ],
   "source": [
    "X.shape"
   ]
  },
  {
   "cell_type": "code",
   "execution_count": 33,
   "metadata": {},
   "outputs": [
    {
     "name": "stderr",
     "output_type": "stream",
     "text": [
      "/home/nfarrugi/miniconda3/lib/python3.6/site-packages/sklearn/feature_selection/univariate_selection.py:114: UserWarning: Features [   2    8   13   14   17   20   27   28   35   39   40   42   47   54\n",
      "   57   59   61   66   67   71   72   74   84   89   95  102  108  109\n",
      "  114  129  132  136  140  154  155  158  174  182  188  189  191  193\n",
      "  195  199  200  201  206  211  214  223  225  226  228  229  246  247\n",
      "  248  250  253  258  263  273  274  276  281  287  293  300  301  303\n",
      "  306  310  314  317  319  321  323  324  326  331  332  335  339  341\n",
      "  342  345  367  368  389  393  398  404  406  408  412  419  420  423\n",
      "  426  429  431  436  440  444  451  459  460  461  464  465  477  488\n",
      "  490  492  494  498  506  513  516  520  522  529  535  536  541  547\n",
      "  553  556  557  559  560  572  573  578  579  588  601  609  620  626\n",
      "  628  629  632  637  640  646  647  649  652  667  669  672  673  682\n",
      "  684  687  689  705  707  709  714  715  721  734  736  737  739  743\n",
      "  751  761  763  766  776  778  781  787  791  801  803  805  810  816\n",
      "  820  823  828  829  830  834  835  848  849  858  865  873  877  882\n",
      "  885  888  892  901  904  906  909  911  914  924  926  929  930  935\n",
      "  939  941  946  952  964  973  981  983  984  985  987  999 1002 1003\n",
      " 1004 1005 1007 1011 1013 1017 1019 1020] are constant.\n",
      "  UserWarning)\n",
      "/home/nfarrugi/miniconda3/lib/python3.6/site-packages/sklearn/feature_selection/univariate_selection.py:115: RuntimeWarning: invalid value encountered in true_divide\n",
      "  f = msb / msw\n",
      "/home/nfarrugi/miniconda3/lib/python3.6/site-packages/sklearn/feature_selection/univariate_selection.py:114: UserWarning: Features [   2    8   13   14   17   20   27   28   35   39   40   42   47   54\n",
      "   57   59   61   66   67   71   72   74   84   89   95  102  108  109\n",
      "  114  129  132  136  140  154  155  158  174  182  188  189  191  193\n",
      "  195  199  200  201  206  211  214  223  225  226  228  229  246  247\n",
      "  248  250  253  258  263  273  274  276  281  287  293  300  301  303\n",
      "  306  310  314  317  319  321  323  324  326  331  332  335  339  341\n",
      "  342  345  367  368  389  393  398  404  406  408  412  419  420  423\n",
      "  426  429  431  436  440  444  451  459  460  461  464  465  477  485\n",
      "  488  490  492  494  498  506  513  516  520  522  529  535  536  541\n",
      "  547  553  556  557  559  560  572  573  578  579  588  601  609  620\n",
      "  626  628  629  632  637  640  646  647  649  652  667  669  672  673\n",
      "  682  684  687  689  705  707  709  714  715  721  734  736  737  739\n",
      "  743  751  761  763  766  776  778  781  787  791  801  803  805  810\n",
      "  816  820  823  828  829  830  834  835  848  849  858  865  873  877\n",
      "  882  885  888  892  901  904  906  909  911  914  924  926  929  930\n",
      "  935  939  941  946  952  964  973  981  983  984  985  987  999 1002\n",
      " 1003 1004 1005 1007 1011 1013 1017 1019 1020] are constant.\n",
      "  UserWarning)\n",
      "/home/nfarrugi/miniconda3/lib/python3.6/site-packages/sklearn/feature_selection/univariate_selection.py:115: RuntimeWarning: invalid value encountered in true_divide\n",
      "  f = msb / msw\n",
      "/home/nfarrugi/miniconda3/lib/python3.6/site-packages/sklearn/neural_network/multilayer_perceptron.py:564: UserWarning: Training interrupted by user.\n",
      "  warnings.warn(\"Training interrupted by user.\")\n",
      "/home/nfarrugi/miniconda3/lib/python3.6/site-packages/sklearn/feature_selection/univariate_selection.py:114: UserWarning: Features [   2    8   13   14   17   20   27   28   35   39   40   42   47   54\n",
      "   57   59   61   66   67   71   72   74   84   89   95  102  108  109\n",
      "  114  129  132  136  140  154  155  158  174  182  188  189  191  193\n",
      "  195  199  200  201  206  211  214  223  225  226  228  229  246  247\n",
      "  248  250  253  258  263  273  274  276  281  285  287  293  300  301\n",
      "  303  306  310  314  317  319  321  323  324  326  331  332  335  339\n",
      "  341  342  345  367  368  389  393  398  404  406  408  412  419  420\n",
      "  423  426  428  429  431  436  440  444  451  459  460  461  464  465\n",
      "  477  488  490  492  494  498  506  513  516  520  522  527  529  535\n",
      "  536  541  547  553  556  557  559  560  572  573  578  579  588  601\n",
      "  609  620  626  628  629  632  637  640  646  647  649  652  667  669\n",
      "  672  673  682  684  687  689  705  707  709  714  715  721  724  729\n",
      "  730  734  736  737  739  743  751  761  763  766  776  778  781  787\n",
      "  791  801  803  805  810  816  820  823  828  829  830  834  835  848\n",
      "  849  858  865  873  877  882  885  888  892  901  904  906  909  911\n",
      "  914  924  926  929  930  935  939  941  946  952  964  973  981  983\n",
      "  984  985  987  999 1002 1003 1004 1005 1007 1011 1013 1017 1019 1020] are constant.\n",
      "  UserWarning)\n",
      "/home/nfarrugi/miniconda3/lib/python3.6/site-packages/sklearn/feature_selection/univariate_selection.py:115: RuntimeWarning: invalid value encountered in true_divide\n",
      "  f = msb / msw\n",
      "/home/nfarrugi/miniconda3/lib/python3.6/site-packages/sklearn/feature_selection/univariate_selection.py:114: UserWarning: Features [   2    8   13   14   17   20   27   28   35   39   40   42   47   54\n",
      "   57   59   61   66   67   71   72   74   84   89   95  102  108  109\n",
      "  114  129  132  136  140  154  155  158  174  182  188  189  191  193\n",
      "  195  199  200  201  206  211  214  223  225  226  228  229  246  247\n",
      "  248  250  253  258  263  273  274  276  281  287  293  300  301  303\n",
      "  306  310  314  317  319  321  323  324  326  331  332  335  339  341\n",
      "  342  345  367  368  389  393  398  404  406  408  412  419  420  423\n",
      "  426  429  431  436  440  444  451  459  460  461  464  465  477  488\n",
      "  490  492  494  498  506  513  516  520  522  529  535  536  541  547\n",
      "  553  556  557  559  560  572  573  578  579  588  601  609  620  626\n",
      "  628  629  632  637  640  642  646  647  649  652  667  669  672  673\n",
      "  682  684  687  689  705  707  709  714  715  721  734  736  737  739\n",
      "  743  751  761  763  766  776  778  781  787  791  801  803  805  810\n",
      "  816  820  823  828  829  830  834  835  848  849  858  865  873  877\n",
      "  882  885  888  892  901  904  906  909  911  914  924  926  929  930\n",
      "  935  939  941  946  952  964  973  981  983  984  985  987  999 1002\n",
      " 1003 1004 1005 1007 1011 1013 1017 1019 1020] are constant.\n",
      "  UserWarning)\n",
      "/home/nfarrugi/miniconda3/lib/python3.6/site-packages/sklearn/feature_selection/univariate_selection.py:115: RuntimeWarning: invalid value encountered in true_divide\n",
      "  f = msb / msw\n",
      "/home/nfarrugi/miniconda3/lib/python3.6/site-packages/sklearn/feature_selection/univariate_selection.py:114: UserWarning: Features [   2    8   13   14   17   19   20   27   28   35   39   40   42   47\n",
      "   54   57   59   61   66   67   71   72   74   84   89   95  102  108\n",
      "  109  114  117  129  132  136  140  154  155  158  174  178  182  188\n",
      "  189  191  193  195  199  200  201  206  211  214  223  225  226  228\n",
      "  229  237  246  247  248  250  253  258  263  264  273  274  276  281\n",
      "  287  293  299  300  301  303  306  310  314  317  319  321  323  324\n",
      "  326  331  332  335  339  341  342  345  367  368  370  389  393  398\n",
      "  404  406  408  412  419  420  423  426  429  431  436  440  444  451\n",
      "  459  460  461  464  465  477  488  489  490  492  494  498  506  513\n",
      "  516  520  522  529  535  536  541  547  553  554  556  557  558  559\n",
      "  560  572  573  578  579  588  601  609  620  626  628  629  632  637\n",
      "  640  646  647  649  652  667  669  672  673  682  684  687  689  691\n",
      "  705  707  709  714  715  721  734  736  737  739  743  748  751  761\n",
      "  763  766  776  778  781  784  787  791  801  802  803  805  810  816\n",
      "  817  820  823  828  829  830  834  835  848  849  852  858  865  873\n",
      "  877  882  885  888  892  901  904  906  909  911  914  924  926  929\n",
      "  930  935  939  941  946  952  964  967  973  981  983  984  985  987\n",
      "  999 1002 1003 1004 1005 1007 1009 1011 1013 1017 1019 1020] are constant.\n",
      "  UserWarning)\n",
      "/home/nfarrugi/miniconda3/lib/python3.6/site-packages/sklearn/feature_selection/univariate_selection.py:115: RuntimeWarning: invalid value encountered in true_divide\n",
      "  f = msb / msw\n"
     ]
    },
    {
     "name": "stdout",
     "output_type": "stream",
     "text": [
      "[0.6375 0.5625 0.6625 0.6875 0.675 ]\n"
     ]
    }
   ],
   "source": [
    "from sklearn.model_selection import LeaveOneGroupOut,cross_validate\n",
    "\n",
    "from sklearn.neural_network import MLPClassifier\n",
    "from sklearn.ensemble import RandomForestClassifier\n",
    "from sklearn.svm import SVC,LinearSVC\n",
    "\n",
    "\n",
    "from sklearn.preprocessing import StandardScaler\n",
    "from sklearn.pipeline import make_pipeline\n",
    "\n",
    "est = make_pipeline(StandardScaler(),SelectKBest(k=100),MLPClassifier(max_iter=5000))\n",
    "\n",
    "scores = cross_validate(estimator=est,X=X,y=y,groups=group,cv = LeaveOneGroupOut(),return_train_score=False)\n",
    "\n",
    "print(scores['test_score'])"
   ]
  },
  {
   "cell_type": "markdown",
   "metadata": {},
   "source": [
    "Can adding an encoding model that estimates fMRI from conv5 help training on ESC-10 ? "
   ]
  },
  {
   "cell_type": "code",
   "execution_count": 16,
   "metadata": {},
   "outputs": [],
   "source": [
    "from joblib import dump, load\n",
    "\n",
    "estim = load('fmri_video/code/encoding_conv7.joblib')"
   ]
  },
  {
   "cell_type": "markdown",
   "metadata": {},
   "source": [
    "Estimate brain activity using ESC-10 feature vectors"
   ]
  },
  {
   "cell_type": "code",
   "execution_count": 29,
   "metadata": {},
   "outputs": [],
   "source": [
    "brain_predictions = estim.predict(X)"
   ]
  },
  {
   "cell_type": "code",
   "execution_count": 30,
   "metadata": {},
   "outputs": [
    {
     "data": {
      "text/plain": [
       "(400, 44690)"
      ]
     },
     "execution_count": 30,
     "metadata": {},
     "output_type": "execute_result"
    }
   ],
   "source": [
    "brain_predictions.shape"
   ]
  },
  {
   "cell_type": "code",
   "execution_count": 31,
   "metadata": {},
   "outputs": [
    {
     "name": "stderr",
     "output_type": "stream",
     "text": [
      "/home/nfarrugi/miniconda3/lib/python3.6/site-packages/sklearn/feature_selection/univariate_selection.py:114: UserWarning: Features [   2    8   13   14   17   20   27   28   35   39   40   42   47   54\n",
      "   57   59   61   66   67   71   72   74   84   89   95  102  108  109\n",
      "  114  129  132  136  140  154  155  158  174  182  188  189  191  193\n",
      "  195  199  200  201  206  211  214  223  225  226  228  229  246  247\n",
      "  248  250  253  258  263  273  274  276  281  287  293  300  301  303\n",
      "  306  310  314  317  319  321  323  324  326  331  332  335  339  341\n",
      "  342  345  367  368  389  393  398  404  406  408  412  419  420  423\n",
      "  426  429  431  436  440  444  451  459  460  461  464  465  477  488\n",
      "  490  492  494  498  506  513  516  520  522  529  535  536  541  547\n",
      "  553  556  557  559  560  572  573  578  579  588  601  609  620  626\n",
      "  628  629  632  637  640  646  647  649  652  667  669  672  673  682\n",
      "  684  687  689  705  707  709  714  715  721  734  736  737  739  743\n",
      "  751  761  763  766  776  778  781  787  791  801  803  805  810  816\n",
      "  820  823  828  829  830  834  835  848  849  858  865  873  877  882\n",
      "  885  888  892  901  904  906  909  911  914  924  926  929  930  935\n",
      "  939  941  946  952  964  973  981  983  984  985  987  999 1002 1003\n",
      " 1004 1005 1007 1011 1013 1017 1019 1020] are constant.\n",
      "  UserWarning)\n",
      "/home/nfarrugi/miniconda3/lib/python3.6/site-packages/sklearn/feature_selection/univariate_selection.py:115: RuntimeWarning: divide by zero encountered in true_divide\n",
      "  f = msb / msw\n",
      "/home/nfarrugi/miniconda3/lib/python3.6/site-packages/sklearn/feature_selection/univariate_selection.py:115: RuntimeWarning: invalid value encountered in true_divide\n",
      "  f = msb / msw\n",
      "/home/nfarrugi/miniconda3/lib/python3.6/site-packages/sklearn/neural_network/multilayer_perceptron.py:562: ConvergenceWarning: Stochastic Optimizer: Maximum iterations (1000) reached and the optimization hasn't converged yet.\n",
      "  % self.max_iter, ConvergenceWarning)\n",
      "/home/nfarrugi/miniconda3/lib/python3.6/site-packages/sklearn/feature_selection/univariate_selection.py:114: UserWarning: Features [   2    8   13   14   17   20   27   28   35   39   40   42   47   54\n",
      "   57   59   61   66   67   71   72   74   84   89   95  102  108  109\n",
      "  114  129  132  136  140  154  155  158  174  182  188  189  191  193\n",
      "  195  199  200  201  206  211  214  223  225  226  228  229  246  247\n",
      "  248  250  253  258  263  273  274  276  281  287  293  300  301  303\n",
      "  306  310  314  317  319  321  323  324  326  331  332  335  339  341\n",
      "  342  345  367  368  389  393  398  404  406  408  412  419  420  423\n",
      "  426  429  431  436  440  444  451  459  460  461  464  465  477  485\n",
      "  488  490  492  494  498  506  513  516  520  522  529  535  536  541\n",
      "  547  553  556  557  559  560  572  573  578  579  588  601  609  620\n",
      "  626  628  629  632  637  640  646  647  649  652  667  669  672  673\n",
      "  682  684  687  689  705  707  709  714  715  721  734  736  737  739\n",
      "  743  751  761  763  766  776  778  781  787  791  801  803  805  810\n",
      "  816  820  823  828  829  830  834  835  848  849  858  865  873  877\n",
      "  882  885  888  892  901  904  906  909  911  914  924  926  929  930\n",
      "  935  939  941  946  952  964  973  981  983  984  985  987  999 1002\n",
      " 1003 1004 1005 1007 1011 1013 1017 1019 1020] are constant.\n",
      "  UserWarning)\n",
      "/home/nfarrugi/miniconda3/lib/python3.6/site-packages/sklearn/feature_selection/univariate_selection.py:115: RuntimeWarning: divide by zero encountered in true_divide\n",
      "  f = msb / msw\n",
      "/home/nfarrugi/miniconda3/lib/python3.6/site-packages/sklearn/feature_selection/univariate_selection.py:115: RuntimeWarning: invalid value encountered in true_divide\n",
      "  f = msb / msw\n",
      "/home/nfarrugi/miniconda3/lib/python3.6/site-packages/sklearn/neural_network/multilayer_perceptron.py:562: ConvergenceWarning: Stochastic Optimizer: Maximum iterations (1000) reached and the optimization hasn't converged yet.\n",
      "  % self.max_iter, ConvergenceWarning)\n",
      "/home/nfarrugi/miniconda3/lib/python3.6/site-packages/sklearn/feature_selection/univariate_selection.py:114: UserWarning: Features [   2    8   13   14   17   20   27   28   35   39   40   42   47   54\n",
      "   57   59   61   66   67   71   72   74   84   89   95  102  108  109\n",
      "  114  129  132  136  140  154  155  158  174  182  188  189  191  193\n",
      "  195  199  200  201  206  211  214  223  225  226  228  229  246  247\n",
      "  248  250  253  258  263  273  274  276  281  285  287  293  300  301\n",
      "  303  306  310  314  317  319  321  323  324  326  331  332  335  339\n",
      "  341  342  345  367  368  389  393  398  404  406  408  412  419  420\n",
      "  423  426  428  429  431  436  440  444  451  459  460  461  464  465\n",
      "  477  488  490  492  494  498  506  513  516  520  522  527  529  535\n",
      "  536  541  547  553  556  557  559  560  572  573  578  579  588  601\n",
      "  609  620  626  628  629  632  637  640  646  647  649  652  667  669\n",
      "  672  673  682  684  687  689  705  707  709  714  715  721  724  729\n",
      "  730  734  736  737  739  743  751  761  763  766  776  778  781  787\n",
      "  791  801  803  805  810  816  820  823  828  829  830  834  835  848\n",
      "  849  858  865  873  877  882  885  888  892  901  904  906  909  911\n",
      "  914  924  926  929  930  935  939  941  946  952  964  973  981  983\n",
      "  984  985  987  999 1002 1003 1004 1005 1007 1011 1013 1017 1019 1020] are constant.\n",
      "  UserWarning)\n",
      "/home/nfarrugi/miniconda3/lib/python3.6/site-packages/sklearn/feature_selection/univariate_selection.py:115: RuntimeWarning: divide by zero encountered in true_divide\n",
      "  f = msb / msw\n",
      "/home/nfarrugi/miniconda3/lib/python3.6/site-packages/sklearn/feature_selection/univariate_selection.py:115: RuntimeWarning: invalid value encountered in true_divide\n",
      "  f = msb / msw\n",
      "/home/nfarrugi/miniconda3/lib/python3.6/site-packages/sklearn/neural_network/multilayer_perceptron.py:562: ConvergenceWarning: Stochastic Optimizer: Maximum iterations (1000) reached and the optimization hasn't converged yet.\n",
      "  % self.max_iter, ConvergenceWarning)\n",
      "/home/nfarrugi/miniconda3/lib/python3.6/site-packages/sklearn/feature_selection/univariate_selection.py:114: UserWarning: Features [   2    8   13   14   17   20   27   28   35   39   40   42   47   54\n",
      "   57   59   61   66   67   71   72   74   84   89   95  102  108  109\n",
      "  114  129  132  136  140  154  155  158  174  182  188  189  191  193\n",
      "  195  199  200  201  206  211  214  223  225  226  228  229  246  247\n",
      "  248  250  253  258  263  273  274  276  281  287  293  300  301  303\n",
      "  306  310  314  317  319  321  323  324  326  331  332  335  339  341\n",
      "  342  345  367  368  389  393  398  404  406  408  412  419  420  423\n",
      "  426  429  431  436  440  444  451  459  460  461  464  465  477  488\n",
      "  490  492  494  498  506  513  516  520  522  529  535  536  541  547\n",
      "  553  556  557  559  560  572  573  578  579  588  601  609  620  626\n",
      "  628  629  632  637  640  642  646  647  649  652  667  669  672  673\n",
      "  682  684  687  689  705  707  709  714  715  721  734  736  737  739\n",
      "  743  751  761  763  766  776  778  781  787  791  801  803  805  810\n",
      "  816  820  823  828  829  830  834  835  848  849  858  865  873  877\n",
      "  882  885  888  892  901  904  906  909  911  914  924  926  929  930\n",
      "  935  939  941  946  952  964  973  981  983  984  985  987  999 1002\n",
      " 1003 1004 1005 1007 1011 1013 1017 1019 1020] are constant.\n",
      "  UserWarning)\n",
      "/home/nfarrugi/miniconda3/lib/python3.6/site-packages/sklearn/feature_selection/univariate_selection.py:115: RuntimeWarning: divide by zero encountered in true_divide\n",
      "  f = msb / msw\n",
      "/home/nfarrugi/miniconda3/lib/python3.6/site-packages/sklearn/feature_selection/univariate_selection.py:115: RuntimeWarning: invalid value encountered in true_divide\n",
      "  f = msb / msw\n",
      "/home/nfarrugi/miniconda3/lib/python3.6/site-packages/sklearn/neural_network/multilayer_perceptron.py:562: ConvergenceWarning: Stochastic Optimizer: Maximum iterations (1000) reached and the optimization hasn't converged yet.\n",
      "  % self.max_iter, ConvergenceWarning)\n",
      "/home/nfarrugi/miniconda3/lib/python3.6/site-packages/sklearn/feature_selection/univariate_selection.py:114: UserWarning: Features [   2    8   13   14   17   19   20   27   28   35   39   40   42   47\n",
      "   54   57   59   61   66   67   71   72   74   84   89   95  102  108\n",
      "  109  114  117  129  132  136  140  154  155  158  174  178  182  188\n",
      "  189  191  193  195  199  200  201  206  211  214  223  225  226  228\n",
      "  229  237  246  247  248  250  253  258  263  264  273  274  276  281\n",
      "  287  293  299  300  301  303  306  310  314  317  319  321  323  324\n",
      "  326  331  332  335  339  341  342  345  367  368  370  389  393  398\n",
      "  404  406  408  412  419  420  423  426  429  431  436  440  444  451\n",
      "  459  460  461  464  465  477  488  489  490  492  494  498  506  513\n",
      "  516  520  522  529  535  536  541  547  553  554  556  557  558  559\n",
      "  560  572  573  578  579  588  601  609  620  626  628  629  632  637\n",
      "  640  646  647  649  652  667  669  672  673  682  684  687  689  691\n",
      "  705  707  709  714  715  721  734  736  737  739  743  748  751  761\n",
      "  763  766  776  778  781  784  787  791  801  802  803  805  810  816\n",
      "  817  820  823  828  829  830  834  835  848  849  852  858  865  873\n",
      "  877  882  885  888  892  901  904  906  909  911  914  924  926  929\n",
      "  930  935  939  941  946  952  964  967  973  981  983  984  985  987\n",
      "  999 1002 1003 1004 1005 1007 1009 1011 1013 1017 1019 1020] are constant.\n",
      "  UserWarning)\n",
      "/home/nfarrugi/miniconda3/lib/python3.6/site-packages/sklearn/feature_selection/univariate_selection.py:115: RuntimeWarning: divide by zero encountered in true_divide\n",
      "  f = msb / msw\n",
      "/home/nfarrugi/miniconda3/lib/python3.6/site-packages/sklearn/feature_selection/univariate_selection.py:115: RuntimeWarning: invalid value encountered in true_divide\n",
      "  f = msb / msw\n"
     ]
    },
    {
     "name": "stdout",
     "output_type": "stream",
     "text": [
      "[0.6    0.675  0.6625 0.7375 0.7375]\n"
     ]
    }
   ],
   "source": [
    "from sklearn.feature_selection import SelectKBest\n",
    "\n",
    "X_brain = np.hstack([X,brain_predictions])\n",
    "\n",
    "est = make_pipeline(StandardScaler(),MLPClassifier(max_iter=1000,verbose=0))\n",
    "\n",
    "scores = cross_validate(estimator=est,X=X_brain,y=y,groups=group,cv = LeaveOneGroupOut(),return_train_score=False)\n",
    "\n",
    "print(scores['test_score'])\n"
   ]
  },
  {
   "cell_type": "code",
   "execution_count": null,
   "metadata": {},
   "outputs": [],
   "source": []
  },
  {
   "cell_type": "code",
   "execution_count": null,
   "metadata": {},
   "outputs": [],
   "source": []
  },
  {
   "cell_type": "markdown",
   "metadata": {},
   "source": [
    "Same tests on ESC-50"
   ]
  },
  {
   "cell_type": "code",
   "execution_count": 128,
   "metadata": {},
   "outputs": [
    {
     "name": "stderr",
     "output_type": "stream",
     "text": [
      "  6%|▌         | 112/2000 [00:32<09:21,  3.37it/s]"
     ]
    },
    {
     "ename": "KeyboardInterrupt",
     "evalue": "",
     "output_type": "error",
     "traceback": [
      "\u001b[0;31m---------------------------------------------------------------------------\u001b[0m",
      "\u001b[0;31mKeyboardInterrupt\u001b[0m                         Traceback (most recent call last)",
      "\u001b[0;32m<ipython-input-128-6898489b94d1>\u001b[0m in \u001b[0;36m<module>\u001b[0;34m\u001b[0m\n\u001b[1;32m     10\u001b[0m     \u001b[0mcurid\u001b[0m \u001b[0;34m=\u001b[0m \u001b[0mcurfile\u001b[0m\u001b[0;34m[\u001b[0m\u001b[0;34m:\u001b[0m\u001b[0;34m-\u001b[0m\u001b[0;36m4\u001b[0m\u001b[0;34m]\u001b[0m\u001b[0;34m\u001b[0m\u001b[0;34m\u001b[0m\u001b[0m\n\u001b[1;32m     11\u001b[0m \u001b[0;34m\u001b[0m\u001b[0m\n\u001b[0;32m---> 12\u001b[0;31m     \u001b[0mvec\u001b[0m\u001b[0;34m,\u001b[0m\u001b[0msiz\u001b[0m\u001b[0;34m=\u001b[0m \u001b[0mextract_vectors_resampl\u001b[0m\u001b[0;34m(\u001b[0m\u001b[0mos\u001b[0m\u001b[0;34m.\u001b[0m\u001b[0mpath\u001b[0m\u001b[0;34m.\u001b[0m\u001b[0mjoin\u001b[0m\u001b[0;34m(\u001b[0m\u001b[0mpathesc\u001b[0m\u001b[0;34m,\u001b[0m\u001b[0mcurfile\u001b[0m\u001b[0;34m)\u001b[0m\u001b[0;34m)\u001b[0m\u001b[0;34m\u001b[0m\u001b[0;34m\u001b[0m\u001b[0m\n\u001b[0m\u001b[1;32m     13\u001b[0m \u001b[0;34m\u001b[0m\u001b[0m\n\u001b[1;32m     14\u001b[0m     \u001b[0mall_fv_esc50\u001b[0m\u001b[0;34m[\u001b[0m\u001b[0mcurid\u001b[0m\u001b[0;34m]\u001b[0m \u001b[0;34m=\u001b[0m \u001b[0mvec\u001b[0m\u001b[0;34m\u001b[0m\u001b[0;34m\u001b[0m\u001b[0m\n",
      "\u001b[0;32m<ipython-input-3-26719df6af4a>\u001b[0m in \u001b[0;36mextract_vectors_resampl\u001b[0;34m(filepath)\u001b[0m\n\u001b[1;32m      3\u001b[0m \u001b[0;32mdef\u001b[0m \u001b[0mextract_vectors_resampl\u001b[0m\u001b[0;34m(\u001b[0m\u001b[0mfilepath\u001b[0m\u001b[0;34m)\u001b[0m\u001b[0;34m:\u001b[0m\u001b[0;34m\u001b[0m\u001b[0;34m\u001b[0m\u001b[0m\n\u001b[1;32m      4\u001b[0m     \u001b[0maudio\u001b[0m\u001b[0;34m,\u001b[0m\u001b[0msr\u001b[0m \u001b[0;34m=\u001b[0m \u001b[0mlibrosa\u001b[0m\u001b[0;34m.\u001b[0m\u001b[0mload\u001b[0m\u001b[0;34m(\u001b[0m\u001b[0mpath\u001b[0m\u001b[0;34m=\u001b[0m\u001b[0mfilepath\u001b[0m\u001b[0;34m,\u001b[0m\u001b[0msr\u001b[0m\u001b[0;34m=\u001b[0m\u001b[0;36m22050\u001b[0m\u001b[0;34m)\u001b[0m\u001b[0;34m\u001b[0m\u001b[0;34m\u001b[0m\u001b[0m\n\u001b[0;32m----> 5\u001b[0;31m     \u001b[0mfeatures\u001b[0m \u001b[0;34m=\u001b[0m \u001b[0mex\u001b[0m\u001b[0;34m.\u001b[0m\u001b[0mextract_pytorch_feature_nooutput\u001b[0m\u001b[0;34m(\u001b[0m\u001b[0maudio\u001b[0m\u001b[0;34m,\u001b[0m\u001b[0;34m'./soundnet/sound8.pth'\u001b[0m\u001b[0;34m)\u001b[0m\u001b[0;34m\u001b[0m\u001b[0;34m\u001b[0m\u001b[0m\n\u001b[0m\u001b[1;32m      6\u001b[0m \u001b[0;34m\u001b[0m\u001b[0m\n\u001b[1;32m      7\u001b[0m     \u001b[0;31m#print([x.shape for x in features])\u001b[0m\u001b[0;34m\u001b[0m\u001b[0;34m\u001b[0m\u001b[0;34m\u001b[0m\u001b[0m\n",
      "\u001b[0;32m~/git/audiosummary-pytorch/soundnet/extract_features.py\u001b[0m in \u001b[0;36mextract_pytorch_feature_nooutput\u001b[0;34m(input_data, pytorch_param_path)\u001b[0m\n\u001b[1;32m     32\u001b[0m     \u001b[0;32mimport\u001b[0m \u001b[0mtorch\u001b[0m\u001b[0;34m\u001b[0m\u001b[0;34m\u001b[0m\u001b[0m\n\u001b[1;32m     33\u001b[0m     \u001b[0;31m# \"point invalid\" error, if put the import on the top of this file\u001b[0m\u001b[0;34m\u001b[0m\u001b[0;34m\u001b[0m\u001b[0;34m\u001b[0m\u001b[0m\n\u001b[0;32m---> 34\u001b[0;31m     \u001b[0mmodel\u001b[0m \u001b[0;34m=\u001b[0m \u001b[0mSoundNet8_pytorch\u001b[0m\u001b[0;34m(\u001b[0m\u001b[0;34m)\u001b[0m\u001b[0;34m\u001b[0m\u001b[0;34m\u001b[0m\u001b[0m\n\u001b[0m\u001b[1;32m     35\u001b[0m     \u001b[0;31m# load model\u001b[0m\u001b[0;34m\u001b[0m\u001b[0;34m\u001b[0m\u001b[0;34m\u001b[0m\u001b[0m\n\u001b[1;32m     36\u001b[0m     \u001b[0mmodel\u001b[0m\u001b[0;34m.\u001b[0m\u001b[0mload_state_dict\u001b[0m\u001b[0;34m(\u001b[0m\u001b[0mtorch\u001b[0m\u001b[0;34m.\u001b[0m\u001b[0mload\u001b[0m\u001b[0;34m(\u001b[0m\u001b[0mpytorch_param_path\u001b[0m\u001b[0;34m)\u001b[0m\u001b[0;34m)\u001b[0m\u001b[0;34m\u001b[0m\u001b[0;34m\u001b[0m\u001b[0m\n",
      "\u001b[0;32m~/git/audiosummary-pytorch/soundnet/pytorch_model.py\u001b[0m in \u001b[0;36m__init__\u001b[0;34m(self)\u001b[0m\n\u001b[1;32m      6\u001b[0m         \u001b[0msuper\u001b[0m\u001b[0;34m(\u001b[0m\u001b[0mSoundNet8_pytorch\u001b[0m\u001b[0;34m,\u001b[0m \u001b[0mself\u001b[0m\u001b[0;34m)\u001b[0m\u001b[0;34m.\u001b[0m\u001b[0m__init__\u001b[0m\u001b[0;34m(\u001b[0m\u001b[0;34m)\u001b[0m\u001b[0;34m\u001b[0m\u001b[0;34m\u001b[0m\u001b[0m\n\u001b[1;32m      7\u001b[0m \u001b[0;34m\u001b[0m\u001b[0m\n\u001b[0;32m----> 8\u001b[0;31m         \u001b[0mself\u001b[0m\u001b[0;34m.\u001b[0m\u001b[0mdefine_module\u001b[0m\u001b[0;34m(\u001b[0m\u001b[0;34m)\u001b[0m\u001b[0;34m\u001b[0m\u001b[0;34m\u001b[0m\u001b[0m\n\u001b[0m\u001b[1;32m      9\u001b[0m \u001b[0;34m\u001b[0m\u001b[0m\n\u001b[1;32m     10\u001b[0m     \u001b[0;32mdef\u001b[0m \u001b[0mdefine_module\u001b[0m\u001b[0;34m(\u001b[0m\u001b[0mself\u001b[0m\u001b[0;34m)\u001b[0m\u001b[0;34m:\u001b[0m\u001b[0;34m\u001b[0m\u001b[0;34m\u001b[0m\u001b[0m\n",
      "\u001b[0;32m~/git/audiosummary-pytorch/soundnet/pytorch_model.py\u001b[0m in \u001b[0;36mdefine_module\u001b[0;34m(self)\u001b[0m\n\u001b[1;32m     51\u001b[0m         ) \n\u001b[1;32m     52\u001b[0m         self.conv8_2 = nn.Sequential(\n\u001b[0;32m---> 53\u001b[0;31m             \u001b[0mnn\u001b[0m\u001b[0;34m.\u001b[0m\u001b[0mConv2d\u001b[0m\u001b[0;34m(\u001b[0m\u001b[0;36m1024\u001b[0m\u001b[0;34m,\u001b[0m \u001b[0;36m401\u001b[0m\u001b[0;34m,\u001b[0m \u001b[0;34m(\u001b[0m\u001b[0;36m8\u001b[0m\u001b[0;34m,\u001b[0m\u001b[0;36m1\u001b[0m\u001b[0;34m)\u001b[0m\u001b[0;34m,\u001b[0m \u001b[0;34m(\u001b[0m\u001b[0;36m2\u001b[0m\u001b[0;34m,\u001b[0m\u001b[0;36m1\u001b[0m\u001b[0;34m)\u001b[0m\u001b[0;34m,\u001b[0m \u001b[0;34m(\u001b[0m\u001b[0;36m0\u001b[0m\u001b[0;34m,\u001b[0m\u001b[0;36m0\u001b[0m\u001b[0;34m)\u001b[0m\u001b[0;34m,\u001b[0m \u001b[0mbias\u001b[0m\u001b[0;34m=\u001b[0m\u001b[0;32mTrue\u001b[0m\u001b[0;34m)\u001b[0m\u001b[0;34m\u001b[0m\u001b[0;34m\u001b[0m\u001b[0m\n\u001b[0m\u001b[1;32m     54\u001b[0m         )\n\u001b[1;32m     55\u001b[0m \u001b[0;34m\u001b[0m\u001b[0m\n",
      "\u001b[0;32m~/miniconda3/lib/python3.6/site-packages/torch/nn/modules/conv.py\u001b[0m in \u001b[0;36m__init__\u001b[0;34m(self, in_channels, out_channels, kernel_size, stride, padding, dilation, groups, bias, padding_mode)\u001b[0m\n\u001b[1;32m    325\u001b[0m         super(Conv2d, self).__init__(\n\u001b[1;32m    326\u001b[0m             \u001b[0min_channels\u001b[0m\u001b[0;34m,\u001b[0m \u001b[0mout_channels\u001b[0m\u001b[0;34m,\u001b[0m \u001b[0mkernel_size\u001b[0m\u001b[0;34m,\u001b[0m \u001b[0mstride\u001b[0m\u001b[0;34m,\u001b[0m \u001b[0mpadding\u001b[0m\u001b[0;34m,\u001b[0m \u001b[0mdilation\u001b[0m\u001b[0;34m,\u001b[0m\u001b[0;34m\u001b[0m\u001b[0;34m\u001b[0m\u001b[0m\n\u001b[0;32m--> 327\u001b[0;31m             False, _pair(0), groups, bias, padding_mode)\n\u001b[0m\u001b[1;32m    328\u001b[0m \u001b[0;34m\u001b[0m\u001b[0m\n\u001b[1;32m    329\u001b[0m     \u001b[0;34m@\u001b[0m\u001b[0mweak_script_method\u001b[0m\u001b[0;34m\u001b[0m\u001b[0;34m\u001b[0m\u001b[0m\n",
      "\u001b[0;32m~/miniconda3/lib/python3.6/site-packages/torch/nn/modules/conv.py\u001b[0m in \u001b[0;36m__init__\u001b[0;34m(self, in_channels, out_channels, kernel_size, stride, padding, dilation, transposed, output_padding, groups, bias, padding_mode)\u001b[0m\n\u001b[1;32m     43\u001b[0m         \u001b[0;32melse\u001b[0m\u001b[0;34m:\u001b[0m\u001b[0;34m\u001b[0m\u001b[0;34m\u001b[0m\u001b[0m\n\u001b[1;32m     44\u001b[0m             \u001b[0mself\u001b[0m\u001b[0;34m.\u001b[0m\u001b[0mregister_parameter\u001b[0m\u001b[0;34m(\u001b[0m\u001b[0;34m'bias'\u001b[0m\u001b[0;34m,\u001b[0m \u001b[0;32mNone\u001b[0m\u001b[0;34m)\u001b[0m\u001b[0;34m\u001b[0m\u001b[0;34m\u001b[0m\u001b[0m\n\u001b[0;32m---> 45\u001b[0;31m         \u001b[0mself\u001b[0m\u001b[0;34m.\u001b[0m\u001b[0mreset_parameters\u001b[0m\u001b[0;34m(\u001b[0m\u001b[0;34m)\u001b[0m\u001b[0;34m\u001b[0m\u001b[0;34m\u001b[0m\u001b[0m\n\u001b[0m\u001b[1;32m     46\u001b[0m \u001b[0;34m\u001b[0m\u001b[0m\n\u001b[1;32m     47\u001b[0m     \u001b[0;32mdef\u001b[0m \u001b[0mreset_parameters\u001b[0m\u001b[0;34m(\u001b[0m\u001b[0mself\u001b[0m\u001b[0;34m)\u001b[0m\u001b[0;34m:\u001b[0m\u001b[0;34m\u001b[0m\u001b[0;34m\u001b[0m\u001b[0m\n",
      "\u001b[0;32m~/miniconda3/lib/python3.6/site-packages/torch/nn/modules/conv.py\u001b[0m in \u001b[0;36mreset_parameters\u001b[0;34m(self)\u001b[0m\n\u001b[1;32m     46\u001b[0m \u001b[0;34m\u001b[0m\u001b[0m\n\u001b[1;32m     47\u001b[0m     \u001b[0;32mdef\u001b[0m \u001b[0mreset_parameters\u001b[0m\u001b[0;34m(\u001b[0m\u001b[0mself\u001b[0m\u001b[0;34m)\u001b[0m\u001b[0;34m:\u001b[0m\u001b[0;34m\u001b[0m\u001b[0;34m\u001b[0m\u001b[0m\n\u001b[0;32m---> 48\u001b[0;31m         \u001b[0minit\u001b[0m\u001b[0;34m.\u001b[0m\u001b[0mkaiming_uniform_\u001b[0m\u001b[0;34m(\u001b[0m\u001b[0mself\u001b[0m\u001b[0;34m.\u001b[0m\u001b[0mweight\u001b[0m\u001b[0;34m,\u001b[0m \u001b[0ma\u001b[0m\u001b[0;34m=\u001b[0m\u001b[0mmath\u001b[0m\u001b[0;34m.\u001b[0m\u001b[0msqrt\u001b[0m\u001b[0;34m(\u001b[0m\u001b[0;36m5\u001b[0m\u001b[0;34m)\u001b[0m\u001b[0;34m)\u001b[0m\u001b[0;34m\u001b[0m\u001b[0;34m\u001b[0m\u001b[0m\n\u001b[0m\u001b[1;32m     49\u001b[0m         \u001b[0;32mif\u001b[0m \u001b[0mself\u001b[0m\u001b[0;34m.\u001b[0m\u001b[0mbias\u001b[0m \u001b[0;32mis\u001b[0m \u001b[0;32mnot\u001b[0m \u001b[0;32mNone\u001b[0m\u001b[0;34m:\u001b[0m\u001b[0;34m\u001b[0m\u001b[0;34m\u001b[0m\u001b[0m\n\u001b[1;32m     50\u001b[0m             \u001b[0mfan_in\u001b[0m\u001b[0;34m,\u001b[0m \u001b[0m_\u001b[0m \u001b[0;34m=\u001b[0m \u001b[0minit\u001b[0m\u001b[0;34m.\u001b[0m\u001b[0m_calculate_fan_in_and_fan_out\u001b[0m\u001b[0;34m(\u001b[0m\u001b[0mself\u001b[0m\u001b[0;34m.\u001b[0m\u001b[0mweight\u001b[0m\u001b[0;34m)\u001b[0m\u001b[0;34m\u001b[0m\u001b[0;34m\u001b[0m\u001b[0m\n",
      "\u001b[0;32m~/miniconda3/lib/python3.6/site-packages/torch/nn/init.py\u001b[0m in \u001b[0;36mkaiming_uniform_\u001b[0;34m(tensor, a, mode, nonlinearity)\u001b[0m\n\u001b[1;32m    326\u001b[0m     \u001b[0mbound\u001b[0m \u001b[0;34m=\u001b[0m \u001b[0mmath\u001b[0m\u001b[0;34m.\u001b[0m\u001b[0msqrt\u001b[0m\u001b[0;34m(\u001b[0m\u001b[0;36m3.0\u001b[0m\u001b[0;34m)\u001b[0m \u001b[0;34m*\u001b[0m \u001b[0mstd\u001b[0m  \u001b[0;31m# Calculate uniform bounds from standard deviation\u001b[0m\u001b[0;34m\u001b[0m\u001b[0;34m\u001b[0m\u001b[0m\n\u001b[1;32m    327\u001b[0m     \u001b[0;32mwith\u001b[0m \u001b[0mtorch\u001b[0m\u001b[0;34m.\u001b[0m\u001b[0mno_grad\u001b[0m\u001b[0;34m(\u001b[0m\u001b[0;34m)\u001b[0m\u001b[0;34m:\u001b[0m\u001b[0;34m\u001b[0m\u001b[0;34m\u001b[0m\u001b[0m\n\u001b[0;32m--> 328\u001b[0;31m         \u001b[0;32mreturn\u001b[0m \u001b[0mtensor\u001b[0m\u001b[0;34m.\u001b[0m\u001b[0muniform_\u001b[0m\u001b[0;34m(\u001b[0m\u001b[0;34m-\u001b[0m\u001b[0mbound\u001b[0m\u001b[0;34m,\u001b[0m \u001b[0mbound\u001b[0m\u001b[0;34m)\u001b[0m\u001b[0;34m\u001b[0m\u001b[0;34m\u001b[0m\u001b[0m\n\u001b[0m\u001b[1;32m    329\u001b[0m \u001b[0;34m\u001b[0m\u001b[0m\n\u001b[1;32m    330\u001b[0m \u001b[0;34m\u001b[0m\u001b[0m\n",
      "\u001b[0;31mKeyboardInterrupt\u001b[0m: "
     ]
    }
   ],
   "source": [
    "pathesc = '/home/nfarrugi/git/ESC-50/audio/'\n",
    "listfiles = os.listdir(pathesc)\n",
    "\n",
    "all_fv_esc50 = dict()\n",
    "\n",
    "#for curfile in tqdm(listfiles[:10]):\n",
    "\n",
    "for curfile in (tqdm(listfiles)):\n",
    "    \n",
    "    curid = curfile[:-4]\n",
    "        \n",
    "    vec,siz= extract_vectors_resampl(os.path.join(pathesc,curfile))\n",
    "    \n",
    "    all_fv_esc50[curid] = vec"
   ]
  },
  {
   "cell_type": "code",
   "execution_count": 105,
   "metadata": {},
   "outputs": [],
   "source": [
    "np.savez_compressed('/home/nfarrugi/esc50-allfv.npz',all_fv_esc50 = all_fv_esc50)\n",
    "\n"
   ]
  },
  {
   "cell_type": "code",
   "execution_count": 129,
   "metadata": {},
   "outputs": [],
   "source": [
    "all_fv_esc50 = np.load('/home/nfarrugi/esc50-allfv.npz')['all_fv_esc50']"
   ]
  },
  {
   "cell_type": "code",
   "execution_count": 130,
   "metadata": {},
   "outputs": [
    {
     "ename": "IndexError",
     "evalue": "only integers, slices (`:`), ellipsis (`...`), numpy.newaxis (`None`) and integer or boolean arrays are valid indices",
     "output_type": "error",
     "traceback": [
      "\u001b[0;31m---------------------------------------------------------------------------\u001b[0m",
      "\u001b[0;31mIndexError\u001b[0m                                Traceback (most recent call last)",
      "\u001b[0;32m<ipython-input-130-c3a571c310ec>\u001b[0m in \u001b[0;36m<module>\u001b[0;34m\u001b[0m\n\u001b[1;32m      9\u001b[0m \u001b[0;32mfor\u001b[0m \u001b[0mcurstim\u001b[0m \u001b[0;32min\u001b[0m \u001b[0mDf\u001b[0m\u001b[0;34m[\u001b[0m\u001b[0;34m'filename'\u001b[0m\u001b[0;34m]\u001b[0m\u001b[0;34m:\u001b[0m\u001b[0;34m\u001b[0m\u001b[0;34m\u001b[0m\u001b[0m\n\u001b[1;32m     10\u001b[0m     \u001b[0mcurid\u001b[0m \u001b[0;34m=\u001b[0m \u001b[0mcurstim\u001b[0m\u001b[0;34m[\u001b[0m\u001b[0;34m:\u001b[0m\u001b[0;34m-\u001b[0m\u001b[0;36m4\u001b[0m\u001b[0;34m]\u001b[0m\u001b[0;34m\u001b[0m\u001b[0;34m\u001b[0m\u001b[0m\n\u001b[0;32m---> 11\u001b[0;31m     \u001b[0mcurfv\u001b[0m \u001b[0;34m=\u001b[0m \u001b[0mall_fv_esc50\u001b[0m\u001b[0;34m[\u001b[0m\u001b[0mcurid\u001b[0m\u001b[0;34m]\u001b[0m\u001b[0;34m[\u001b[0m\u001b[0mlayer\u001b[0m\u001b[0;34m]\u001b[0m\u001b[0;34m.\u001b[0m\u001b[0mmean\u001b[0m\u001b[0;34m(\u001b[0m\u001b[0maxis\u001b[0m\u001b[0;34m=\u001b[0m\u001b[0;36m0\u001b[0m\u001b[0;34m)\u001b[0m\u001b[0;34m\u001b[0m\u001b[0;34m\u001b[0m\u001b[0m\n\u001b[0m\u001b[1;32m     12\u001b[0m     \u001b[0;31m#curfv = all_fv_esc10[curid][layer]\u001b[0m\u001b[0;34m\u001b[0m\u001b[0;34m\u001b[0m\u001b[0;34m\u001b[0m\u001b[0m\n\u001b[1;32m     13\u001b[0m     \u001b[0mX\u001b[0m\u001b[0;34m.\u001b[0m\u001b[0mappend\u001b[0m\u001b[0;34m(\u001b[0m\u001b[0mcurfv\u001b[0m\u001b[0;34m)\u001b[0m\u001b[0;34m\u001b[0m\u001b[0;34m\u001b[0m\u001b[0m\n",
      "\u001b[0;31mIndexError\u001b[0m: only integers, slices (`:`), ellipsis (`...`), numpy.newaxis (`None`) and integer or boolean arrays are valid indices"
     ]
    }
   ],
   "source": [
    "y = Df['category']\n",
    "\n",
    "group = Df['fold']\n",
    "\n",
    "layer = 4 # 6 for conv7 layer\n",
    "\n",
    "X = []\n",
    "\n",
    "for curstim in Df['filename']:\n",
    "    curid = curstim[:-4]\n",
    "    curfv = all_fv_esc50[curid][layer].mean(axis=0)\n",
    "    #curfv = all_fv_esc10[curid][layer]\n",
    "    X.append(curfv)\n",
    "X = np.stack(X)"
   ]
  },
  {
   "cell_type": "code",
   "execution_count": 119,
   "metadata": {},
   "outputs": [
    {
     "name": "stdout",
     "output_type": "stream",
     "text": [
      "[0.4225 0.42   0.455  0.5    0.475 ]\n"
     ]
    }
   ],
   "source": [
    "\n",
    "from sklearn.preprocessing import StandardScaler\n",
    "from sklearn.pipeline import make_pipeline\n",
    "\n",
    "\n",
    "est = make_pipeline(StandardScaler(),LinearSVC(max_iter=5000,C=0.01))\n",
    "\n",
    "\n",
    "scores = cross_validate(estimator=est,X=X,y=y,groups=group,cv = LeaveOneGroupOut(),return_train_score=False)\n",
    "\n",
    "print(scores['test_score'])"
   ]
  },
  {
   "cell_type": "code",
   "execution_count": null,
   "metadata": {},
   "outputs": [],
   "source": []
  }
 ],
 "metadata": {
  "kernelspec": {
   "display_name": "Python 3",
   "language": "python",
   "name": "python3"
  },
  "language_info": {
   "codemirror_mode": {
    "name": "ipython",
    "version": 3
   },
   "file_extension": ".py",
   "mimetype": "text/x-python",
   "name": "python",
   "nbconvert_exporter": "python",
   "pygments_lexer": "ipython3",
   "version": "3.6.8"
  }
 },
 "nbformat": 4,
 "nbformat_minor": 4
}
